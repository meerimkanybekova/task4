{
  "cells": [
    {
      "attachments": {},
      "cell_type": "markdown",
      "metadata": {
        "id": "zXmLmGbLiO9f"
      },
      "source": [
        "# Титаник: прогноз выживания"
      ]
    },
    {
      "cell_type": "code",
      "execution_count": 2,
      "metadata": {
        "id": "4nwCiRLGiO9g"
      },
      "outputs": [],
      "source": [
        "import pandas as pd"
      ]
    },
    {
      "cell_type": "code",
      "execution_count": 4,
      "metadata": {
        "id": "lW_f_niIiO9i"
      },
      "outputs": [
        {
          "name": "stdout",
          "output_type": "stream",
          "text": [
            "   PassengerId  Survived  Pclass  \\\n",
            "0            1         0       3   \n",
            "1            2         1       1   \n",
            "2            3         1       3   \n",
            "3            4         1       1   \n",
            "4            5         0       3   \n",
            "\n",
            "                                                Name     Sex   Age  SibSp  \\\n",
            "0                            Braund, Mr. Owen Harris    male  22.0      1   \n",
            "1  Cumings, Mrs. John Bradley (Florence Briggs Th...  female  38.0      1   \n",
            "2                             Heikkinen, Miss. Laina  female  26.0      0   \n",
            "3       Futrelle, Mrs. Jacques Heath (Lily May Peel)  female  35.0      1   \n",
            "4                           Allen, Mr. William Henry    male  35.0      0   \n",
            "\n",
            "   Parch            Ticket     Fare Cabin Embarked  \n",
            "0      0         A/5 21171   7.2500   NaN        S  \n",
            "1      0          PC 17599  71.2833   C85        C  \n",
            "2      0  STON/O2. 3101282   7.9250   NaN        S  \n",
            "3      0            113803  53.1000  C123        S  \n",
            "4      0            373450   8.0500   NaN        S  \n"
          ]
        }
      ],
      "source": [
        "df = pd.read_csv('titanic_train.csv', sep=',')\n",
        "print(df.head(5))"
      ]
    },
    {
      "cell_type": "markdown",
      "metadata": {
        "id": "f1aby8vdiO9i"
      },
      "source": [
        "# Раздел 1. Понимаем и трансформируем данные с Титаника"
      ]
    },
    {
      "cell_type": "markdown",
      "metadata": {
        "id": "TSK0PY-3iO9k"
      },
      "source": [
        "### Задача 1.1\n",
        "\n",
        "Разбейте все переменные в датасете на численные, категорийные и ординальные. Запишите их названия (копируя из списка `train_df.columns`) и сохраните в следующем блоке в categorical и ordinal. \n",
        "\n"
      ]
    },
    {
      "cell_type": "code",
      "execution_count": 6,
      "metadata": {
        "id": "mCc4Rmg4iO9k",
        "outputId": "613e05f2-7be9-4815-c75e-5e2c3223a9eb"
      },
      "outputs": [],
      "source": [
        "numerical = ['Age', 'SibSp', 'Parch', 'Fare']\n",
        "categorical = ['Sex', 'Embarked', 'Survived']\n",
        "ordinal = ['Cabin', 'Pclass']"
      ]
    },
    {
      "cell_type": "markdown",
      "metadata": {
        "id": "o7KmNsxRiO9m"
      },
      "source": [
        "### Задача 1.2\n",
        "\n",
        "Запишите названия переменных, которые не принесут никакой пользы для статистической модели, в список not_useful в следующем блоке. Используя команду `.drop()`, удалите эти переменные из данных. "
      ]
    },
    {
      "cell_type": "code",
      "execution_count": 7,
      "metadata": {
        "id": "Zg_OoKOuiO9m",
        "outputId": "017f78ea-4564-43ef-ff1f-fb868a24440b"
      },
      "outputs": [],
      "source": [
        "not_useful = ['PassengerId', 'Name', 'Ticket']\n",
        "df.drop(not_useful, axis=1, inplace=True)"
      ]
    },
    {
      "cell_type": "markdown",
      "metadata": {
        "id": "TUHtmtfAiO9n"
      },
      "source": [
        "### Задача 1.3\n",
        "Меняем гендер в бинарную репрезентацию"
      ]
    },
    {
      "cell_type": "code",
      "execution_count": 9,
      "metadata": {
        "id": "s9xW77aviO9o",
        "outputId": "52b29327-4ef1-4091-db6d-1868acdf623d",
        "scrolled": true
      },
      "outputs": [],
      "source": [
        "df['Sex'] = df['Sex'].map({'male': 0, 'female': 1})"
      ]
    },
    {
      "cell_type": "markdown",
      "metadata": {
        "id": "Em7H7ezwiO9o"
      },
      "source": [
        "### Задача 1.4\n",
        "Есть ли у нас пропущенные данные?"
      ]
    },
    {
      "cell_type": "code",
      "execution_count": 10,
      "metadata": {
        "id": "o_lNzGs5iO9o",
        "outputId": "eef44f80-503f-48fb-a7a0-0ffef4abdbc6"
      },
      "outputs": [],
      "source": [
        "median_age = df['Age'].median()\n",
        "df['Age'].fillna(median_age, inplace=True)"
      ]
    },
    {
      "cell_type": "code",
      "execution_count": 11,
      "metadata": {
        "id": "ytFPVlDWiO9p",
        "outputId": "ae86021b-d6e5-40b7-a329-c9a76f9be508"
      },
      "outputs": [
        {
          "name": "stdout",
          "output_type": "stream",
          "text": [
            "Survived      0\n",
            "Pclass        0\n",
            "Sex           0\n",
            "Age           0\n",
            "SibSp         0\n",
            "Parch         0\n",
            "Fare          0\n",
            "Cabin       687\n",
            "Embarked      2\n",
            "dtype: int64\n"
          ]
        }
      ],
      "source": [
        "missing_data = df.isnull().sum()\n",
        "print(missing_data)"
      ]
    },
    {
      "cell_type": "markdown",
      "metadata": {
        "id": "TR24CwnkiO9q"
      },
      "source": [
        "-----\n",
        "\n",
        "# Раздел 2. Анализируем данные"
      ]
    },
    {
      "cell_type": "code",
      "execution_count": 14,
      "metadata": {
        "id": "tz-0z4kciO9q"
      },
      "outputs": [
        {
          "name": "stdout",
          "output_type": "stream",
          "text": [
            "     Survived  Pclass  Sex   Age  SibSp  Parch     Fare        Cabin Embarked\n",
            "1           1       1    1  38.0      1      0  71.2833          C85        C\n",
            "3           1       1    1  35.0      1      0  53.1000         C123        S\n",
            "6           0       1    0  54.0      0      0  51.8625          E46        S\n",
            "11          1       1    1  58.0      0      0  26.5500         C103        S\n",
            "23          1       1    0  28.0      0      0  35.5000           A6        S\n",
            "..        ...     ...  ...   ...    ...    ...      ...          ...      ...\n",
            "871         1       1    1  47.0      1      1  52.5542          D35        S\n",
            "872         0       1    0  33.0      0      0   5.0000  B51 B53 B55        S\n",
            "879         1       1    1  56.0      0      1  83.1583          C50        C\n",
            "887         1       1    1  19.0      0      0  30.0000          B42        S\n",
            "889         1       1    0  26.0      0      0  30.0000         C148        C\n",
            "\n",
            "[216 rows x 9 columns]\n"
          ]
        }
      ],
      "source": [
        "class_1_df = df.loc[df['Pclass'] == 1]\n",
        "class_2_df = df.loc[df['Pclass'] == 2]\n",
        "class_3_df = df.loc[df['Pclass'] == 3]\n",
        "\n",
        "print(class_1_df)"
      ]
    },
    {
      "cell_type": "markdown",
      "metadata": {
        "id": "ey5YFdpuiO9r"
      },
      "source": [
        "## Покажите какие шансы на выживание в зависимости от класса билета:"
      ]
    },
    {
      "cell_type": "code",
      "execution_count": 17,
      "metadata": {
        "id": "HgGiVIOziO9r",
        "outputId": "a96b3845-2527-4cbf-f278-819ead1875aa",
        "scrolled": true
      },
      "outputs": [
        {
          "name": "stdout",
          "output_type": "stream",
          "text": [
            "1 = 0.6296296296296297\n",
            "2 = 0.47282608695652173\n",
            "3 = 0.24236252545824846\n"
          ]
        }
      ],
      "source": [
        "survival = df.groupby('Pclass')['Survived'].mean()\n",
        "for pclass, survival_rate in survival.items():\n",
        "    print(f\"{pclass} = {survival_rate}\")\n"
      ]
    },
    {
      "cell_type": "markdown",
      "metadata": {
        "id": "PJjp89EaiO9r"
      },
      "source": [
        "## Шансы на выживание в зависимости от возраста:"
      ]
    },
    {
      "cell_type": "code",
      "execution_count": 21,
      "metadata": {
        "id": "trtAc_JdiO9s",
        "outputId": "d240e100-1506-4134-9577-c89d43946bcc",
        "scrolled": true
      },
      "outputs": [
        {
          "name": "stdout",
          "output_type": "stream",
          "text": [
            "Age\n",
            "0.42     1.0\n",
            "0.67     1.0\n",
            "0.75     1.0\n",
            "0.83     1.0\n",
            "0.92     1.0\n",
            "        ... \n",
            "70.00    0.0\n",
            "70.50    0.0\n",
            "71.00    0.0\n",
            "74.00    0.0\n",
            "80.00    1.0\n",
            "Name: Survived, Length: 88, dtype: float64\n"
          ]
        }
      ],
      "source": [
        "survival_by_age = df.groupby('Age')['Survived'].mean()\n",
        "print(survival_by_age)"
      ]
    },
    {
      "cell_type": "markdown",
      "metadata": {
        "id": "46AHSukNiO9s"
      },
      "source": [
        "## Шансы на выживание в зависимости от ..."
      ]
    },
    {
      "cell_type": "code",
      "execution_count": 22,
      "metadata": {
        "id": "d7kedmZNiO9s",
        "outputId": "b7620d0a-89b9-4412-a347-9168fa57e5c6"
      },
      "outputs": [
        {
          "name": "stdout",
          "output_type": "stream",
          "text": [
            "Sex\n",
            "0    0.188908\n",
            "1    0.742038\n",
            "Name: Survived, dtype: float64\n"
          ]
        }
      ],
      "source": [
        "survival_by_gender = df.groupby('Sex')['Survived'].mean()\n",
        "print(survival_by_gender)"
      ]
    },
    {
      "cell_type": "code",
      "execution_count": 25,
      "metadata": {
        "id": "iKYAyZ3niO9t"
      },
      "outputs": [
        {
          "name": "stdout",
          "output_type": "stream",
          "text": [
            "SibSp\n",
            "0    0.345395\n",
            "1    0.535885\n",
            "2    0.464286\n",
            "3    0.250000\n",
            "4    0.166667\n",
            "5    0.000000\n",
            "8    0.000000\n",
            "Name: Survived, dtype: float64\n"
          ]
        }
      ],
      "source": [
        "survival_by_sibsp = df.groupby('SibSp')['Survived'].mean()\n",
        "print(survival_by_sibsp)"
      ]
    },
    {
      "cell_type": "code",
      "execution_count": 26,
      "metadata": {
        "id": "2JUdILUZiO9t",
        "outputId": "83c33458-3f86-426e-b606-4d82b43a5a61"
      },
      "outputs": [
        {
          "name": "stdout",
          "output_type": "stream",
          "text": [
            "Parch\n",
            "0    0.343658\n",
            "1    0.550847\n",
            "2    0.500000\n",
            "3    0.600000\n",
            "4    0.000000\n",
            "5    0.200000\n",
            "6    0.000000\n",
            "Name: Survived, dtype: float64\n"
          ]
        }
      ],
      "source": [
        "survival_by_parch = df.groupby('Parch')['Survived'].mean()\n",
        "print(survival_by_parch)"
      ]
    }
  ],
  "metadata": {
    "colab": {
      "provenance": []
    },
    "kernelspec": {
      "display_name": "Python 3",
      "language": "python",
      "name": "python3"
    },
    "language_info": {
      "codemirror_mode": {
        "name": "ipython",
        "version": 3
      },
      "file_extension": ".py",
      "mimetype": "text/x-python",
      "name": "python",
      "nbconvert_exporter": "python",
      "pygments_lexer": "ipython3",
      "version": "3.11.2"
    }
  },
  "nbformat": 4,
  "nbformat_minor": 0
}
